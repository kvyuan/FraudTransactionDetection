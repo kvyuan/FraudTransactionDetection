{
 "cells": [
  {
   "cell_type": "markdown",
   "metadata": {},
   "source": [
    "## Model Factory"
   ]
  },
  {
   "cell_type": "code",
   "execution_count": 1,
   "metadata": {},
   "outputs": [],
   "source": [
    "#libraries for modeling\n",
    "from multiprocessing.pool import ThreadPool\n",
    "from pyspark import SparkContext\n",
    "from pyspark.sql import SQLContext, SparkSession, Window, Row\n",
    "from pyspark.ml.linalg import Vectors\n",
    "from pyspark.ml.feature import VectorAssembler\n",
    "from pyspark.ml.evaluation import RegressionEvaluator\n",
    "import pyspark.sql.functions as F\n",
    "import itertools\n",
    "from itertools import repeat\n",
    "import pickle\n",
    "import pyspark\n",
    "import copy\n",
    "\n",
    "from pyspark.ml.classification import MultilayerPerceptronClassifier\n",
    "from pyspark.ml.evaluation import MulticlassClassificationEvaluator\n",
    "from pyspark.ml.evaluation import MulticlassClassificationEvaluator\n",
    "from pyspark.ml.classification import RandomForestClassifier\n",
    "from pyspark.ml.classification import LogisticRegression\n",
    "from pyspark.ml.classification import GBTClassifier\n",
    "from pyspark.ml.evaluation import BinaryClassificationEvaluator\n",
    "\n",
    "#libraries for plotting\n",
    "import matplotlib.gridspec as gridspec\n",
    "import seaborn as sns\n",
    "import pandas as pd\n",
    "import numpy as np\n",
    "from scipy import stats\n",
    "import matplotlib.pyplot as plt\n",
    "\n",
    "class CreateBestModel:\n",
    "    def __init__(self, algo, avgprecision, avgrecall, avgfscore, hyperparams, ootmodel, ootprecision, ootrecall, ootfscore):\n",
    "        self.algo = algo\n",
    "        self.gsPrecision = avgprecision\n",
    "        self.gsFScore = avgfscore\n",
    "        self.gsRecall = avgrecall\n",
    "        self.hyperParams = hyperparams\n",
    "        self.model = ootmodel\n",
    "        self.ootPrecision = ootprecision\n",
    "        self.ootFScore = ootfscore\n",
    "        self.ootRecall = ootrecall\n",
    "\n",
    "#function-based\n",
    "def sample(df, sampling_method, ratio):\n",
    "\n",
    "    notfraud = df.select('*').where(df.Class == 0.0)\n",
    "    fraud = df.select('*').where(df.Class == 1.0)\n",
    "\n",
    "    if sampling_method == \"over\":\n",
    "        nrows = notfraud.select(\"Class\").count()\n",
    "        sample_size = int(nrows*ratio/(1-ratio))\n",
    "        sampled = fraud.rdd.takeSample(True, sample_size, 46)\n",
    "        fraud = sqlContext.createDataFrame(sampled)\n",
    "\n",
    "    elif sampling_method == \"under\":\n",
    "        nrows = fraud.select(\"Class\").count()\n",
    "        sample_size = int(nrows*(1-ratio)/ratio)\n",
    "        sampled = notfraud.rdd.takeSample(False, sample_size, 46)\n",
    "        notfraud = sqlContext.createDataFrame(sampled)\n",
    "\n",
    "    sampled = fraud.union(notfraud)\n",
    "    fraud_count = sampled.select(\"Class\").where(sampled.Class == 1.0).count()\n",
    "    tot_count = sampled.select(\"Class\").count()\n",
    "    fraud_ratio = fraud_count / tot_count\n",
    "\n",
    "    print(\"train after sampling: \" + str(tot_count))\n",
    "    print(\"fraud ratio: \" + str(fraud_ratio))\n",
    "\n",
    "    #shuffle undersampled dataframe\n",
    "    nrows = sampled.select(\"Class\").count()\n",
    "    shuffled = sampled.rdd.takeSample(False, nrows, 46)\n",
    "    shuffled_df = sqlContext.createDataFrame(shuffled)\n",
    "\n",
    "    return shuffled_df\n",
    "\n",
    "def generateParamGrid(*args):\n",
    "    \n",
    "    grid = list(itertools.product(*args))\n",
    "    return grid\n",
    "\n",
    "def generateClassifier(algo, params, features):\n",
    "\n",
    "    ############################################################################\n",
    "    #TODO: complete this section\n",
    "\n",
    "    def lr(params,features):\n",
    "        print(params)\n",
    "        if len(params) > 2:\n",
    "            lrClassifier = LogisticRegression(featuresCol = 'features',\n",
    "                                          labelCol = 'Class',\n",
    "                                          threshold=params[0],\n",
    "                                           maxIter=params[1],\n",
    "                                           weightCol=params[2])\n",
    "                                          #regParam=params[2])\n",
    "                                          #elasticNetParam=params[2])\n",
    "        else:\n",
    "            lrClassifier = LogisticRegression(featuresCol = 'features',\n",
    "                                          labelCol = 'Class',\n",
    "                                          threshold=params[0],\n",
    "                                           maxIter=params[1])\n",
    "        return lrClassifier\n",
    "\n",
    "\n",
    "    def gbm(params,features):\n",
    "        gbmClassifier = GBTClassifier(featuresCol = 'features',\n",
    "                                      labelCol = 'Class',\n",
    "                                      maxDepth = params[0],\n",
    "                                      maxIter = params[1],\n",
    "                                     stepSize = params[2])\n",
    "        return gbmClassifier\n",
    "\n",
    "    def rf(params,features):\n",
    "        rfClassifier = RandomForestClassifier(featuresCol='features',\n",
    "                                              labelCol='Class',\n",
    "                                              maxDepth=params[0],\n",
    "                                              minInfoGain=params[1],\n",
    "                                              numTrees=params[2])\n",
    "\n",
    "        return rfClassifier\n",
    "\n",
    "    def mlp(params,features):\n",
    "        input_layers = len(features)\n",
    "        layers = [input_layers, params[1], 2]\n",
    "        print(layers)\n",
    "        mlpClassifier = MultilayerPerceptronClassifier(featuresCol = 'features',\n",
    "                                                       labelCol = 'Class',\n",
    "                                                       maxIter = params[0],\n",
    "                                                       layers = layers,\n",
    "                                                       stepSize = params[2])\n",
    "        return mlpClassifier\n",
    "\n",
    "    def svm(params, features):\n",
    "        svmClassifier = LinearSVC(featuresCol = 'features',\n",
    "                         labelCol='Class', \n",
    "                         standardization=True,\n",
    "                         maxIter=params[0],\n",
    "                         regParam=params[1],\n",
    "                         tol =params[2]\n",
    "                         )\n",
    "        \n",
    "        return svmClassifier\n",
    "\n",
    "    def xg(params,features):\n",
    "        return\n",
    "    ############################################################################\n",
    "\n",
    "    getClassifier = {\n",
    "        'lr':lr,\n",
    "        'gbm':gbm,\n",
    "        'rf':rf,\n",
    "        'mlp':mlp,\n",
    "        'svm':svm,\n",
    "        'xg':xg}\n",
    "\n",
    "    return getClassifier[algo](params,features)\n",
    "\n",
    "def crossValidate(df, folds, k, classifier, features, sampling_method, ratio, pool):\n",
    "\n",
    "    def build(fold, df, classifier, features, sampling_method, ratio):\n",
    "\n",
    "        #undersample notfraud\n",
    "        validation = fold\n",
    "        train = df.subtract(fold)\n",
    "\n",
    "#         #add class weight\n",
    "#         notfraud_count = train.select(\"Class\").where(train.Class == 0.0).count()\n",
    "#         total_count = train.select(\"Class\").count()\n",
    "#         balance_ratio = notfraud_count / total_count\n",
    "#         train=train.withColumn(\"classWeights\", F.when(train.Class == 1.0,balance_ratio).otherwise(1-balance_ratio))\n",
    "        \n",
    "        train = sample(train, sampling_method, ratio)\n",
    "        vectorAssembler = VectorAssembler(inputCols = features, outputCol = 'features')\n",
    "        vector_train = vectorAssembler.transform(train)\n",
    "        vector_validate = vectorAssembler.transform(validation)\n",
    "        model = classifier.fit(vector_train)\n",
    "        pred = model.transform(vector_validate)\n",
    "        pos = pred.filter(pred.prediction == 1.0).count()\n",
    "        if pos != 0:\n",
    "            precision = pred.filter(pred.Class == pred.prediction).filter(pred.Class == 1.0).count() / pos\n",
    "        else:\n",
    "            precision = 0\n",
    "        fraud = pred.filter(pred.Class == 1.0).count()\n",
    "        if fraud != 0:\n",
    "            recall = pred.filter(pred.Class == pred.prediction).filter(pred.Class == 1.0).count() / fraud\n",
    "        else:\n",
    "            recall = 0\n",
    "        precision_recall = precision + recall\n",
    "        if precision_recall != 0:\n",
    "            f_score = 2 * precision * recall /(precision_recall)\n",
    "        else:\n",
    "            f_score = 0\n",
    "        #print(\"\\n precision, recall, f_score: \" + str(precision) + \", \" + str(recall) + \", \" + str(f_score))\n",
    "        return [precision, recall, f_score]\n",
    "\n",
    "    #call multiprocessing here\n",
    "    cvperformance = pool.map(lambda fold: build(fold, df, classifier, features, sampling_method, ratio), folds)\n",
    "\n",
    "    #calculate metrics\n",
    "    precision_sum = sum([x[0] for x in cvperformance])\n",
    "    recall_sum = sum([x[1] for x in cvperformance])\n",
    "\n",
    "    avg_precision = precision_sum/k\n",
    "    avg_recall = recall_sum/k\n",
    "    if avg_precision+avg_recall == 0:\n",
    "        avg_fscore = 0\n",
    "    else:\n",
    "        avg_fscore = 2 * avg_precision * avg_recall /(avg_precision+avg_recall)\n",
    "    return [avg_precision,avg_recall,avg_fscore]\n",
    "\n",
    "def gridSearch(df, folds, k, algo, grid, features, sampling_method, ratio, pool):\n",
    "\n",
    "    best_hyper = None\n",
    "    best_precision = 0\n",
    "    best_recall = 0\n",
    "    best_fscore = 0\n",
    "\n",
    "    for i in range(len(grid)):\n",
    "        params = list(grid[i])\n",
    "        print(params)\n",
    "        classifier = generateClassifier(algo, params, features)\n",
    "        modelPerformance = crossValidate(df, folds, k, classifier, features, sampling_method, ratio, pool)\n",
    "        print(modelPerformance)\n",
    "        if modelPerformance[2] > best_fscore:\n",
    "            best_hyper = params\n",
    "            best_precision = modelPerformance[0]\n",
    "            best_recall = modelPerformance[1]\n",
    "            best_fscore = modelPerformance[2]\n",
    "\n",
    "    return best_hyper, best_precision, best_recall, best_fscore\n",
    "\n",
    "def ootTest(traindf,testdf, algo,features,params):\n",
    "    vectorAssembler = VectorAssembler(inputCols = features, outputCol = 'features')\n",
    "    classifier = generateClassifier(algo, params, features)\n",
    "    vector_train = vectorAssembler.transform(traindf)\n",
    "    vector_test = vectorAssembler.transform(testdf)\n",
    "    ootmodel = classifier.fit(vector_train)\n",
    "    pred = ootmodel.transform(vector_test)\n",
    "    pos = pred.filter(pred.prediction == 1.0).count()\n",
    "    if pos != 0:\n",
    "        precision = pred.filter(pred.Class == pred.prediction).filter(pred.Class == 1.0).count() / pos\n",
    "    else:\n",
    "        precision = 0\n",
    "    fraud = pred.filter(pred.Class == 1.0).count()\n",
    "    if fraud != 0:\n",
    "        recall = pred.filter(pred.Class == pred.prediction).filter(pred.Class == 1.0).count() / fraud\n",
    "    else:\n",
    "        recall = 0\n",
    "    precision_recall = precision + recall\n",
    "    if precision_recall != 0:\n",
    "        f_score = 2 * precision * recall /(precision_recall)\n",
    "    else:\n",
    "        f_score = 0\n",
    "    print(\"\\n precision, recall, f_score: \" + str(precision) + \", \" + str(recall) + \", \" + str(f_score))\n",
    "    \n",
    "    return ootmodel, precision, recall, f_score\n",
    "\n",
    "def tune(df, k, stratification_flag, sampling_method, ratio, modelobj_flag, features, algo, *args, **kwargs):\n",
    "\n",
    "    \"\"\"\n",
    "    Entry point of this suite of functions. returns cv metrics or a model object\n",
    "    Example:\n",
    "        >>> cv_hyper, cv_precision, cv_recall, cv_fscore = tune(df, 5, True,\n",
    "        'None', 0, False, features, 'mlp', [100], [15], [0.03])\n",
    "    :param df: data for modeling purpose\n",
    "    :type df: : pyspark dataframe\n",
    "    :param k: number of folds for cross validation\n",
    "    :type k: int\n",
    "    :param stratification_flag: specifies whether fraud ratio is fixed for each fold. True for stratification\n",
    "    :type stratification_flag: boolean\n",
    "    :param sampling_method: \"over\" for oversampling minority class, \"under\" for undersampling majority class, \"None\"\n",
    "    :type sampling_method: str\n",
    "    :param ratio: targeted fraud ratio after sampling.\n",
    "    :type ratio: float\n",
    "    :param modelobj_flag: specifies whether to return a model object for out of time test. if False, returns cv performancce\n",
    "    :type modelobj_flag: float\n",
    "    :param features: features for training\n",
    "    :type features: list\n",
    "    :param *args: a sequence of params for hyperparams tuning. ex. [values for params1], [values for params2],...\n",
    "    :type *args: list\n",
    "    :returns: model object or cross validation metrics depending on modelobj_flag\n",
    "    \"\"\"\n",
    "\n",
    "\n",
    "    pool = ThreadPool(3)\n",
    "\n",
    "    #reduce df dimenions to include features and class\n",
    "    cols = features+['Class', 'index']\n",
    "    df = df.select(cols)\n",
    "    df = df.select(*(F.col(c).cast(\"double\").alias(c) for c in df.columns))\n",
    "    df.cache()\n",
    "    #df.drop(\"index\")\n",
    "    \n",
    "    ########################ClassWeights#################################\n",
    "    if algo in [\"lr\", \"svm\"] and [\"ClassWeigts\"] in args:\n",
    "        #add class weight\n",
    "        balance_ratio = args[-1][0]\n",
    "        df=df.withColumn(\"classWeights\", when(df.Class == 1.0,balance_ratio).otherwise(1-balance_ratio))\n",
    "    ########################ClassWeights#################################\n",
    "    \n",
    "    folds = []\n",
    "    \n",
    "    if stratification_flag == False:\n",
    "        tot_count = df.select(\"Class\").count()\n",
    "        n = int(tot_count / k)\n",
    "\n",
    "        #create sub-dataframe iteratively\n",
    "        fold_start = 1\n",
    "        fold_end = n\n",
    "        for i in range(k):\n",
    "            fold = df.select('*').where(df.index.between(fold_start, fold_end))\n",
    "            folds.append(fold)\n",
    "            fold_start = fold_end + 1\n",
    "            fold_end = fold_start + n\n",
    "            if i == k-2:\n",
    "                end = tot_count\n",
    "                \n",
    "    if stratification_flag == True:\n",
    "        fraud = df.select(\"*\").where(df.Class == 1.0)\n",
    "        #shuffle undersampled dataframe\n",
    "        nrows = fraud.select(\"Class\").count()\n",
    "        shuffled = fraud.rdd.takeSample(False, nrows, 46)\n",
    "        fraud = sqlContext.createDataFrame(shuffled)\n",
    "        #add row index to dataframe\n",
    "        fraud = fraud.withColumn('dummy', F.lit('7'))\n",
    "        fraud = fraud.withColumn(\"temp_index\", F.row_number().over(Window.partitionBy(\"dummy\").orderBy(\"dummy\")))\n",
    "        fraud = fraud.drop('dummy')\n",
    "        fraud_count = fraud.select(\"Class\").count()\n",
    "        each_fraud = int(fraud_count/k)\n",
    "\n",
    "        notfraud = df.select(\"*\").where(df.Class == 0.0)\n",
    "        nrows = notfraud.select(\"Class\").count()\n",
    "        shuffled = notfraud.rdd.takeSample(False, nrows, 46)\n",
    "        notfraud = sqlContext.createDataFrame(shuffled)\n",
    "        #add row index to dataframe\n",
    "        notfraud = notfraud.withColumn('dummy', F.lit('7'))\n",
    "        notfraud = notfraud.withColumn(\"temp_index\", F.row_number().over(Window.partitionBy(\"dummy\").orderBy(\"dummy\")))\n",
    "        notfraud = notfraud.drop('dummy')\n",
    "        notfraud_count = notfraud.select(\"Class\").count()\n",
    "        each_notfraud = int(notfraud_count/k)\n",
    "\n",
    "        fraud_start = 1\n",
    "        fraud_end = each_fraud\n",
    "        notfraud_start = 1\n",
    "        notfraud_end = each_notfraud\n",
    "\n",
    "        for i in range(k):\n",
    "            fraud_fold  = fraud.select('*').where(fraud.temp_index.between(fraud_start, fraud_end))\n",
    "            notfraud_fold = notfraud.select('*').where(notfraud.temp_index.between(notfraud_start, notfraud_end))\n",
    "            fold = fraud_fold.union(notfraud_fold).drop(\"temp_index\")\n",
    "            folds.append(fold)\n",
    "            fraud_start = fraud_end + 1\n",
    "            fraud_end = fraud_start + each_fraud\n",
    "            notfraud_start = notfraud_end + 1\n",
    "            notfraud_end = notfraud_start + each_notfraud\n",
    "            if i == k-2:\n",
    "                fraud_end = fraud_count\n",
    "                notfraud_end = notfraud_count\n",
    "\n",
    "\n",
    "    #generate hyperparam combo\n",
    "    grid = generateParamGrid(*args)\n",
    "\n",
    "    #conduct grid search:\n",
    "    best_hyper, best_precision, best_recall, best_fscore = gridSearch(df, folds, k, algo, grid, features, sampling_method, ratio, pool)\n",
    "\n",
    "    if modelobj_flag == True:\n",
    "        #generate a model obj\n",
    "        traindf = sample(df, sampling_method, ratio)\n",
    "        testdf = sqlContext.read.csv(\"oot.csv\", header = True)\n",
    "        cols = features+['Class', 'index']\n",
    "        testdf = testdf.select(cols)\n",
    "        testdf = testdf.select(*(F.col(c).cast(\"double\").alias(c) for c in testdf.columns))\n",
    "        model, precision, recall, fscore = ootTest(traindf, testdf, algo,features,best_hyper)\n",
    "        \n",
    "        modelobj = CreateBestModel(algo, best_precision, best_recall, best_fscore, best_hyper, \n",
    "                                   model, precision, recall, fscore)\n",
    "        return modelobj\n",
    "\n",
    "    return best_hyper, best_precision, best_recall, best_fscore\n",
    "\n",
    "def save(content, filename):\n",
    "\n",
    "    pickle.dump(content, open(filename, \"wb\"))\n",
    "\n",
    "def load(filename):\n",
    "\n",
    "    content = pickle.load(open(filename, \"rb\"))\n",
    "    return content\n",
    "\n",
    "def generateStratifiedFolds(df,k):\n",
    "\n",
    "    return folds"
   ]
  },
  {
   "cell_type": "code",
   "execution_count": 2,
   "metadata": {},
   "outputs": [],
   "source": [
    "sc=pyspark.SparkContext.getOrCreate()\n",
    "sqlContext = SQLContext(sc)"
   ]
  },
  {
   "cell_type": "markdown",
   "metadata": {},
   "source": [
    "## Step 1: Default Baseline Model"
   ]
  },
  {
   "cell_type": "code",
   "execution_count": 3,
   "metadata": {},
   "outputs": [],
   "source": [
    "#Import Spark session\n",
    "sc=pyspark.SparkContext.getOrCreate()\n",
    "sqlContext = SQLContext(sc)\n",
    "\n",
    "#read file as dataframe\n",
    "train_df= sqlContext.read.format('com.databricks.spark.csv').options(header='true', inferschema='true').load('base_train.csv')\n",
    "test_df= sqlContext.read.format('com.databricks.spark.csv').options(header='true', inferschema='true').load('base_test.csv')\n",
    "\n",
    "vectorAssembler = VectorAssembler(inputCols = ['V1','V2','V3','V4','V5','V6','V7','V8','V9','V10','V11','V12','V13','V14','V15','V16','V17','V18','V19','V20','V21','V22','V23','V24','V25','V26','V27','V28','Amount'], outputCol = 'features')\n",
    "train_df_v = vectorAssembler.transform(train_df)\n",
    "test_df_v = vectorAssembler.transform(test_df)\n",
    "gbt = GBTClassifier(featuresCol = 'features',labelCol = 'Class')\n",
    "\n",
    "gbt_model = gbt.fit(train_df_v)\n",
    "gbt_prediction = gbt_model.transform(test_df_v)\n",
    "gbt_prediction.select('features','Class','prediction').show()\n"
   ]
  },
  {
   "cell_type": "code",
   "execution_count": 10,
   "metadata": {},
   "outputs": [
    {
     "name": "stdout",
     "output_type": "stream",
     "text": [
      "Precision is  0.922077922077922\n",
      "Recall is  0.7802197802197802\n",
      "F1 score is  0.8452380952380951\n",
      "Test Area Under ROC: 0.9847701355040529\n"
     ]
    }
   ],
   "source": [
    "evaluator = BinaryClassificationEvaluator(labelCol=\"Class\", metricName=\"areaUnderROC\")\n",
    "area = evaluator.evaluate(gbt_prediction)\n",
    "pred = gbt_prediction\n",
    "precision = pred.filter(pred.Class == pred.prediction).filter(pred.Class == 1.0).count() / pred.filter(pred.prediction == 1.0).count()\n",
    "recall = pred.filter(pred.Class == pred.prediction).filter(pred.Class == 1.0).count() / pred.filter(pred.Class == 1.0).count()\n",
    "f1 = 2 * precision * recall /(precision + recall)\n",
    "print(\"Precision is \", precision)\n",
    "print(\"Recall is \", recall)\n",
    "print(\"F1 score is \", f1)\n",
    "print(\"Test Area Under ROC: \" + str(area))"
   ]
  },
  {
   "cell_type": "markdown",
   "metadata": {},
   "source": [
    "## Step 2: Compare random cv and stratified cv"
   ]
  },
  {
   "cell_type": "markdown",
   "metadata": {},
   "source": [
    "### Random CV"
   ]
  },
  {
   "cell_type": "code",
   "execution_count": 17,
   "metadata": {},
   "outputs": [
    {
     "name": "stdout",
     "output_type": "stream",
     "text": [
      "[5, 20]\n",
      "train after sampling: 152562\n",
      "fraud ratio: 0.0014420366801693738\n",
      "train after sampling: 152482\n",
      "fraud ratio: 0.0016592122348867407\n",
      "\n",
      " precision, recall, f_score: 0.8837209302325582, 0.6909090909090909, 0.7755102040816326\n",
      "\n",
      " precision, recall, f_score: 0.49, 0.5568181818181818, 0.5212765957446808\n",
      "train after sampling: 152538\n",
      "fraud ratio: 0.0017372720240202441\n",
      "train after sampling: 152553\n",
      "fraud ratio: 0.0018223174896593315\n",
      "\n",
      " precision, recall, f_score: 1.0, 0.6511627906976745, 0.7887323943661972\n",
      "\n",
      " precision, recall, f_score: 0.8947368421052632, 0.5666666666666667, 0.6938775510204083\n",
      "train after sampling: 152499\n",
      "fraud ratio: 0.0016655846923586384\n",
      "\n",
      " precision, recall, f_score: 0.8163265306122449, 0.7407407407407407, 0.7766990291262137\n",
      "grids search precision: 0.8169568605900132\n",
      "grids search recall: 0.6412594941664709\n",
      "grids search f-score: 0.7185234776293068\n"
     ]
    }
   ],
   "source": [
    "df = sqlContext.read.csv(\"base_train.csv\", header = True)\n",
    "features = ['V1','V2','V3','V4','V5','V6','V7','V8','V9','V10','V11','V12','V13','V14','V15','V16','V17','V18','V19','V20','V21','V22','V23','V24','V25','V26','V27','V28','Amount']\n",
    "cv_hyper, cv_precision, cv_recall, cv_fscore = tune(df, 5, False, 'None', 0, False, features, 'gbm', [5],[20])\n",
    "print(\"grids search precision:\", cv_precision)\n",
    "print(\"grids search recall:\", cv_recall)\n",
    "print(\"grids search f-score:\", cv_fscore)\n",
    "sqlContext.clearCache()"
   ]
  },
  {
   "cell_type": "markdown",
   "metadata": {},
   "source": [
    "### Stratified CV"
   ]
  },
  {
   "cell_type": "code",
   "execution_count": 18,
   "metadata": {},
   "outputs": [
    {
     "name": "stdout",
     "output_type": "stream",
     "text": [
      "[5, 20]\n",
      "train after sampling: 145266\n",
      "fraud ratio: 0.0016934451282474908\n",
      "train after sampling: 145268\n",
      "fraud ratio: 0.001700305641985847\n",
      "\n",
      " precision, recall, f_score: 0.9074074074074074, 0.7903225806451613, 0.8448275862068966\n",
      "\n",
      " precision, recall, f_score: 0.9019607843137255, 0.7540983606557377, 0.8214285714285715\n",
      "train after sampling: 145266\n",
      "fraud ratio: 0.0016934451282474908\n",
      "train after sampling: 145266\n",
      "fraud ratio: 0.0016934451282474908\n",
      "\n",
      " precision, recall, f_score: 0.8679245283018868, 0.7419354838709677, 0.8\n",
      "\n",
      " precision, recall, f_score: 0.8888888888888888, 0.6451612903225806, 0.7476635514018692\n",
      "train after sampling: 145270\n",
      "fraud ratio: 0.0017002822330832244\n",
      "\n",
      " precision, recall, f_score: 0.8679245283018868, 0.7540983606557377, 0.8070175438596491\n",
      "grid search precision: 0.8868212274427589\n",
      "grid search recall: 0.737123215230037\n",
      "grid search f-score: 0.805072510277454\n"
     ]
    }
   ],
   "source": [
    "df = sqlContext.read.csv(\"base_train.csv\", header = True)\n",
    "features = ['Amount', 'V1', 'V2', 'V3', 'V4', 'V5', 'V6', \n",
    "            'V7', 'V8', 'V9', 'V10', 'V11', 'V12', 'V13', \n",
    "            'V14', 'V15', 'V16', 'V17', 'V18', 'V19', 'V20', \n",
    "            'V21', 'V22', 'V23', 'V24', 'V25', 'V26', 'V27', 'V28']\n",
    "\n",
    "cv_hyper, cv_precision, cv_recall, cv_fscore = tune(df, 5, True, 'None', 0, False, features, 'gbm', [5],[20])\n",
    "print(\"grid search precision:\", cv_precision)\n",
    "print(\"grid search recall:\", cv_recall)\n",
    "print(\"grid search f-score:\", cv_fscore)"
   ]
  },
  {
   "cell_type": "markdown",
   "metadata": {},
   "source": [
    "## Step 3: Grid Search"
   ]
  },
  {
   "cell_type": "code",
   "execution_count": 19,
   "metadata": {},
   "outputs": [
    {
     "name": "stdout",
     "output_type": "stream",
     "text": [
      "[4, 50, 0.1]\n",
      "train after sampling: 145268\n",
      "fraud ratio: 0.001700305641985847\n",
      "train after sampling: 145266\n",
      "fraud ratio: 0.0016934451282474908\n",
      "train after sampling: 145266\n",
      "fraud ratio: 0.0016934451282474908\n",
      "\n",
      " precision, recall, f_score: 0.9523809523809523, 0.6451612903225806, 0.7692307692307692\n",
      "\n",
      " precision, recall, f_score: 0.9215686274509803, 0.7704918032786885, 0.8392857142857142\n",
      "train after sampling: 145266\n",
      "fraud ratio: 0.0016934451282474908\n",
      "train after sampling: 145270\n",
      "fraud ratio: 0.0017002822330832244\n",
      "[0.9326188240172704, 0.7534108937070332, 0.8334908623547159]\n",
      "[4, 50, 0.05]\n",
      "train after sampling: 145268\n",
      "fraud ratio: 0.001700305641985847\n",
      "train after sampling: 145266\n",
      "fraud ratio: 0.0016934451282474908\n",
      "train after sampling: 145266\n",
      "fraud ratio: 0.0016934451282474908\n",
      "train after sampling: 145266\n",
      "fraud ratio: 0.0016934451282474908\n",
      "train after sampling: 145270\n",
      "fraud ratio: 0.0017002822330832244\n",
      "[0.9256353926547864, 0.7403490216816498, 0.8226886776234749]\n",
      "[4, 100, 0.1]\n",
      "train after sampling: 145268\n",
      "fraud ratio: 0.001700305641985847\n",
      "train after sampling: 145266\n",
      "fraud ratio: 0.0016934451282474908\n",
      "train after sampling: 145266\n",
      "fraud ratio: 0.0016934451282474908\n",
      "train after sampling: 145266\n",
      "fraud ratio: 0.0016934451282474908\n",
      "train after sampling: 145270\n",
      "fraud ratio: 0.0017002822330832244\n",
      "[0.9376742272775104, 0.7695928080380751, 0.8453596615740194]\n",
      "[4, 100, 0.05]\n",
      "train after sampling: 145266\n",
      "fraud ratio: 0.0016934451282474908\n",
      "train after sampling: 145266\n",
      "fraud ratio: 0.0016934451282474908\n",
      "train after sampling: 145268\n",
      "fraud ratio: 0.001700305641985847\n",
      "train after sampling: 145266\n",
      "fraud ratio: 0.0016934451282474908\n",
      "train after sampling: 145270\n",
      "fraud ratio: 0.0017002822330832244\n",
      "[0.9478187837986978, 0.7501322051824431, 0.8374675111569493]\n",
      "[4, 200, 0.1]\n",
      "train after sampling: 145266\n",
      "fraud ratio: 0.0016934451282474908\n",
      "train after sampling: 145268\n",
      "fraud ratio: 0.001700305641985847\n",
      "train after sampling: 145266\n",
      "fraud ratio: 0.0016934451282474908\n",
      "train after sampling: 145266\n",
      "fraud ratio: 0.0016934451282474908\n",
      "train after sampling: 145270\n",
      "fraud ratio: 0.0017002822330832244\n",
      "[0.9378856437679968, 0.7728186144896879, 0.8473884135937805]\n",
      "[4, 200, 0.05]\n",
      "train after sampling: 145268\n",
      "fraud ratio: 0.001700305641985847\n",
      "train after sampling: 145266\n",
      "fraud ratio: 0.0016934451282474908\n",
      "train after sampling: 145266\n",
      "fraud ratio: 0.0016934451282474908\n",
      "train after sampling: 145266\n",
      "fraud ratio: 0.0016934451282474908\n",
      "train after sampling: 145270\n",
      "fraud ratio: 0.0017002822330832244\n",
      "[0.9415156695156697, 0.7728186144896879, 0.848866924058035]\n",
      "[5, 50, 0.1]\n",
      "train after sampling: 145268\n",
      "fraud ratio: 0.001700305641985847\n",
      "train after sampling: 145266\n",
      "fraud ratio: 0.0016934451282474908\n",
      "train after sampling: 145266\n",
      "fraud ratio: 0.0016934451282474908\n",
      "train after sampling: 145266\n",
      "fraud ratio: 0.0016934451282474908\n",
      "train after sampling: 145270\n",
      "fraud ratio: 0.0017002822330832244\n",
      "[0.9175755416068112, 0.7598625066102591, 0.8313049197741721]\n",
      "[5, 50, 0.05]\n",
      "train after sampling: 145266\n",
      "fraud ratio: 0.0016934451282474908\n",
      "train after sampling: 145268\n",
      "fraud ratio: 0.001700305641985847\n",
      "train after sampling: 145266\n",
      "fraud ratio: 0.0016934451282474908\n",
      "train after sampling: 145266\n",
      "fraud ratio: 0.0016934451282474908\n",
      "train after sampling: 145270\n",
      "fraud ratio: 0.0017002822330832244\n",
      "[0.8904449541192839, 0.7533580116340559, 0.8161852169398531]\n",
      "[5, 100, 0.1]\n",
      "train after sampling: 145266\n",
      "fraud ratio: 0.0016934451282474908\n",
      "train after sampling: 145268\n",
      "fraud ratio: 0.001700305641985847\n",
      "train after sampling: 145266\n",
      "fraud ratio: 0.0016934451282474908\n",
      "train after sampling: 145266\n",
      "fraud ratio: 0.0016934451282474908\n",
      "train after sampling: 145270\n",
      "fraud ratio: 0.0017002822330832244\n",
      "[0.9324376037030575, 0.7631411951348492, 0.8393376323958763]\n",
      "[5, 100, 0.05]\n",
      "train after sampling: 145266\n",
      "fraud ratio: 0.0016934451282474908\n",
      "train after sampling: 145266\n",
      "fraud ratio: 0.0016934451282474908\n",
      "train after sampling: 145268\n",
      "fraud ratio: 0.001700305641985847\n",
      "train after sampling: 145266\n",
      "fraud ratio: 0.0016934451282474908\n",
      "train after sampling: 145270\n",
      "fraud ratio: 0.0017002822330832244\n",
      "[0.9035679237878727, 0.7533580116340559, 0.8216542693778334]\n",
      "[5, 200, 0.1]\n",
      "train after sampling: 145268\n",
      "fraud ratio: 0.001700305641985847\n",
      "train after sampling: 145266\n",
      "fraud ratio: 0.0016934451282474908\n",
      "train after sampling: 145266\n",
      "fraud ratio: 0.0016934451282474908\n",
      "train after sampling: 145266\n",
      "fraud ratio: 0.0016934451282474908\n",
      "train after sampling: 145270\n",
      "fraud ratio: 0.0017002822330832244\n",
      "[0.9330338757990303, 0.7695928080380752, 0.8434687031364799]\n",
      "[5, 200, 0.05]\n",
      "train after sampling: 145268\n",
      "fraud ratio: 0.001700305641985847\n",
      "train after sampling: 145266\n",
      "fraud ratio: 0.0016934451282474908\n",
      "train after sampling: 145266\n",
      "fraud ratio: 0.0016934451282474908\n",
      "train after sampling: 145266\n",
      "fraud ratio: 0.0016934451282474908\n",
      "train after sampling: 145270\n",
      "fraud ratio: 0.0017002822330832244\n",
      "[0.9177046896053108, 0.7533580116340559, 0.8274497177341683]\n",
      "grids search precision: 0.9415156695156697\n",
      "grids search recall: 0.7728186144896879\n",
      "grids search f-score: 0.848866924058035\n"
     ]
    }
   ],
   "source": [
    "df = sqlContext.read.csv(\"base_train.csv\", header = True)\n",
    "features = ['V1','V2','V3','V4','V5','V6','V7','V8','V9','V10','V11','V12','V13','V14','V15','V16','V17','V18','V19','V20','V21','V22','V23','V24','V25','V26','V27','V28','Amount']\n",
    "cv_hyper, cv_precision, cv_recall, cv_fscore = tune(df, 5, True, 'None', 0, False, features, 'gbm', [4,5],[50, 100, 200],[0.1, 0.05])\n",
    "print(\"grids search precision:\", cv_precision)\n",
    "print(\"grids search recall:\", cv_recall)\n",
    "print(\"grids search f-score:\", cv_fscore)\n",
    "sqlContext.clearCache()"
   ]
  },
  {
   "cell_type": "markdown",
   "metadata": {},
   "source": [
    "### Compare cross validation using default and best hyperparams"
   ]
  },
  {
   "cell_type": "code",
   "execution_count": 3,
   "metadata": {},
   "outputs": [
    {
     "name": "stdout",
     "output_type": "stream",
     "text": [
      "[5, 20, 0.1]\n",
      "train after sampling: 145268\n",
      "fraud ratio: 0.001700305641985847\n",
      "train after sampling: 145266\n",
      "fraud ratio: 0.0016934451282474908\n",
      "train after sampling: 145266\n",
      "fraud ratio: 0.0016934451282474908\n",
      "train after sampling: 145266\n",
      "fraud ratio: 0.0016934451282474908\n",
      "train after sampling: 145270\n",
      "fraud ratio: 0.0017002822330832244\n",
      "[0.889746826686701, 0.7272871496562664, 0.8003560134959474]\n",
      "grids search precision: 0.889746826686701\n",
      "grids search recall: 0.7272871496562664\n",
      "grids search f-score: 0.8003560134959474\n"
     ]
    }
   ],
   "source": [
    "# Default params\n",
    "df = sqlContext.read.csv(\"base_train.csv\", header = True)\n",
    "features = ['V1','V2','V3','V4','V5','V6','V7','V8','V9','V10','V11','V12','V13','V14','V15','V16','V17','V18','V19','V20','V21','V22','V23','V24','V25','V26','V27','V28','Amount']\n",
    "cv_hyper, cv_precision, cv_recall, cv_fscore = tune(df, 5, True, 'None', 0, False, features, 'gbm', [5],[20],[0.1])\n",
    "print(\"grids search precision:\", cv_precision)\n",
    "print(\"grids search recall:\", cv_recall)\n",
    "print(\"grids search f-score:\", cv_fscore)\n",
    "sqlContext.clearCache()"
   ]
  },
  {
   "cell_type": "code",
   "execution_count": 4,
   "metadata": {},
   "outputs": [
    {
     "name": "stdout",
     "output_type": "stream",
     "text": [
      "[4, 200, 0.1]\n",
      "train after sampling: 145268\n",
      "fraud ratio: 0.001700305641985847\n",
      "train after sampling: 145266\n",
      "fraud ratio: 0.0016934451282474908\n",
      "train after sampling: 145266\n",
      "fraud ratio: 0.0016934451282474908\n",
      "train after sampling: 145266\n",
      "fraud ratio: 0.0016934451282474908\n",
      "train after sampling: 145270\n",
      "fraud ratio: 0.0017002822330832244\n",
      "[0.9354317307981658, 0.7759915388683236, 0.8482847243625291]\n",
      "grids search precision: 0.9354317307981658\n",
      "grids search recall: 0.7759915388683236\n",
      "grids search f-score: 0.8482847243625291\n"
     ]
    }
   ],
   "source": [
    "# Best Params\n",
    "df = sqlContext.read.csv(\"base_train.csv\", header = True)\n",
    "features = ['V1','V2','V3','V4','V5','V6','V7','V8','V9','V10','V11','V12','V13','V14','V15','V16','V17','V18','V19','V20','V21','V22','V23','V24','V25','V26','V27','V28','Amount']\n",
    "cv_hyper, cv_precision, cv_recall, cv_fscore = tune(df, 5, True, 'None', 0, False, features, 'gbm', [4],[200],[0.1])\n",
    "print(\"grids search precision:\", cv_precision)\n",
    "print(\"grids search recall:\", cv_recall)\n",
    "print(\"grids search f-score:\", cv_fscore)\n",
    "sqlContext.clearCache()"
   ]
  },
  {
   "cell_type": "code",
   "execution_count": 20,
   "metadata": {},
   "outputs": [
    {
     "data": {
      "text/plain": [
       "[4, 200, 0.05]"
      ]
     },
     "execution_count": 20,
     "metadata": {},
     "output_type": "execute_result"
    }
   ],
   "source": [
    "cv_hyper"
   ]
  },
  {
   "cell_type": "markdown",
   "metadata": {},
   "source": [
    "### using [4, 200, 0.1] is almost the same as [4,200,0.05] so stick with former for faster training"
   ]
  },
  {
   "cell_type": "markdown",
   "metadata": {},
   "source": [
    "### Improve base model with optimized hyperparameters"
   ]
  },
  {
   "cell_type": "code",
   "execution_count": 4,
   "metadata": {},
   "outputs": [
    {
     "name": "stdout",
     "output_type": "stream",
     "text": [
      "Precision is  0.9506172839506173\n",
      "Recall is  0.8461538461538461\n",
      "F1 score is  0.8953488372093024\n",
      "Test Area Under ROC: 0.9780428378596705\n"
     ]
    }
   ],
   "source": [
    "gbt = GBTClassifier(featuresCol = 'features',labelCol = 'Class', maxDepth = 4, maxIter = 200, stepSize = 0.1)\n",
    "gbt_model = gbt.fit(train_df_v)\n",
    "gbt_prediction = gbt_model.transform(test_df_v)\n",
    "\n",
    "evaluator = BinaryClassificationEvaluator(labelCol=\"Class\", metricName=\"areaUnderROC\")\n",
    "area = evaluator.evaluate(gbt_prediction)\n",
    "pred = gbt_prediction\n",
    "precision = pred.filter(pred.Class == pred.prediction).filter(pred.Class == 1.0).count() / pred.filter(pred.prediction == 1.0).count()\n",
    "recall = pred.filter(pred.Class == pred.prediction).filter(pred.Class == 1.0).count() / pred.filter(pred.Class == 1.0).count()\n",
    "f1 = 2 * precision * recall /(precision + recall)\n",
    "print(\"Precision is \", precision)\n",
    "print(\"Recall is \", recall)\n",
    "print(\"F1 score is \", f1)\n",
    "print(\"Test Area Under ROC: \" + str(area))"
   ]
  },
  {
   "cell_type": "markdown",
   "metadata": {},
   "source": [
    "## Step4: Feature Selection with best hyperparams"
   ]
  },
  {
   "cell_type": "code",
   "execution_count": 6,
   "metadata": {},
   "outputs": [
    {
     "name": "stdout",
     "output_type": "stream",
     "text": [
      "(29,[0,1,2,3,4,5,6,7,8,9,10,11,12,13,14,15,16,17,18,19,20,21,22,23,24,25,26,27,28],[0.0822596541994895,0.00945299461360841,0.034126595663567946,0.06807104510749665,0.009587266814040282,0.016545083863433407,0.054434972379176466,0.015335562011043717,0.019192738502418732,0.05691123499268879,0.033877205806948134,0.04796141768970416,0.03268011176153309,0.0681275783529924,0.021612317103607993,0.04524086004605648,0.03859509944013328,0.01051431189673979,0.016508482362895066,0.03386908299300409,0.028996681582625458,0.018712669533998336,0.011333105089996671,0.01227696827653833,0.02651539069084511,0.07206483015364591,0.004712223652012938,0.030493319395722848,0.07999119602403588])\n"
     ]
    },
    {
     "data": {
      "image/png": "[encoded data removed]",
      "text/plain": [
       "<Figure size 1080x576 with 1 Axes>"
      ]
     },
     "metadata": {
      "needs_background": "light"
     },
     "output_type": "display_data"
    }
   ],
   "source": [
    "features = ['Amount', 'V1', 'V2', 'V3', 'V4', 'V5', 'V6', \n",
    "            'V7', 'V8', 'V9', 'V10', 'V11', 'V12', 'V13', \n",
    "            'V14', 'V15', 'V16', 'V17', 'V18', 'V19', 'V20', \n",
    "            'V21', 'V22', 'V23', 'V24', 'V25', 'V26', 'V27', 'V28']\n",
    "featureImportance = gbt_model.featureImportances\n",
    "print(featureImportance)\n",
    "tmp = pd.DataFrame({'Feature': features, 'Feature importance': featureImportance})\n",
    "tmp = tmp.sort_values(by='Feature importance',ascending=False)\n",
    "plt.figure(figsize = (15,8))\n",
    "plt.title('Features importance',fontsize=14)\n",
    "s = sns.barplot(x='Feature',y='Feature importance',data=tmp)\n",
    "s.set_xticklabels(s.get_xticklabels(),rotation=90)\n",
    "plt.show()"
   ]
  },
  {
   "cell_type": "markdown",
   "metadata": {},
   "source": [
    "## Step5. stratified cv with top features and best hyperparams"
   ]
  },
  {
   "cell_type": "markdown",
   "metadata": {},
   "source": [
    "### Based on feature importance"
   ]
  },
  {
   "cell_type": "markdown",
   "metadata": {},
   "source": [
    "### combo1: Amount ~ V24"
   ]
  },
  {
   "cell_type": "code",
   "execution_count": 3,
   "metadata": {},
   "outputs": [
    {
     "name": "stdout",
     "output_type": "stream",
     "text": [
      "[4, 200, 0.1]\n",
      "train after sampling: 145266\n",
      "fraud ratio: 0.0016934451282474908\n",
      "train after sampling: 145266\n",
      "fraud ratio: 0.0016934451282474908\n",
      "train after sampling: 145268\n",
      "fraud ratio: 0.001700305641985847\n",
      "train after sampling: 145266\n",
      "fraud ratio: 0.0016934451282474908\n",
      "train after sampling: 145270\n",
      "fraud ratio: 0.0017002822330832244\n",
      "[0.9061642612706443, 0.7339502908514014, 0.8110159406344248]\n",
      "grid search precision: 0.9061642612706443\n",
      "grid search recall: 0.7339502908514014\n",
      "grid search f-score: 0.8110159406344248\n",
      "grid search hyper: [4, 200, 0.1]\n"
     ]
    }
   ],
   "source": [
    "df = sqlContext.read.csv(\"base_train.csv\", header = True)\n",
    "features = ['Amount', 'V28', 'V25', 'V13', 'V3', 'V9', 'V6', 'V11', 'V15', 'V16', 'V2', 'V10', 'V19', 'V12', 'V27', 'V20', 'V24']\n",
    "gs_hyper, gs_precision, gs_recall, gs_fscore = tune(df, 5, True, 'None', 0, False, features, 'gbm', [4], [200], [0.1])\n",
    "print(\"grid search precision:\", gs_precision)\n",
    "print(\"grid search recall:\", gs_recall)\n",
    "print(\"grid search f-score:\", gs_fscore)\n",
    "print(\"grid search hyper:\", gs_hyper)\n",
    "\n",
    "sqlContext.clearCache()"
   ]
  },
  {
   "cell_type": "markdown",
   "metadata": {},
   "source": [
    "### combo2: Amount ~ V16"
   ]
  },
  {
   "cell_type": "code",
   "execution_count": 4,
   "metadata": {},
   "outputs": [
    {
     "name": "stdout",
     "output_type": "stream",
     "text": [
      "[4, 200, 0.1]\n",
      "train after sampling: 145266\n",
      "fraud ratio: 0.0016934451282474908\n",
      "train after sampling: 145268\n",
      "fraud ratio: 0.001700305641985847\n",
      "train after sampling: 145266\n",
      "fraud ratio: 0.0016934451282474908\n",
      "train after sampling: 145266\n",
      "fraud ratio: 0.0016934451282474908\n",
      "train after sampling: 145270\n",
      "fraud ratio: 0.0017002822330832244\n",
      "[0.920931552772441, 0.7047065044949763, 0.7984390529393709]\n",
      "grid search precision: 0.920931552772441\n",
      "grid search recall: 0.7047065044949763\n",
      "grid search f-score: 0.7984390529393709\n",
      "grid search hyper: [4, 200, 0.1]\n"
     ]
    }
   ],
   "source": [
    "df = sqlContext.read.csv(\"base_train.csv\", header = True)\n",
    "features = ['Amount', 'V28', 'V25', 'V13', 'V3', 'V9', 'V6', 'V11', 'V15', 'V16']\n",
    "gs_hyper, gs_precision, gs_recall, gs_fscore = tune(df, 5, True, 'None', 0, False, features, 'gbm', [4], [200], [0.1])\n",
    "print(\"grid search precision:\", gs_precision)\n",
    "print(\"grid search recall:\", gs_recall)\n",
    "print(\"grid search f-score:\", gs_fscore)\n",
    "print(\"grid search hyper:\", gs_hyper)\n",
    "\n",
    "sqlContext.clearCache()"
   ]
  },
  {
   "cell_type": "markdown",
   "metadata": {},
   "source": [
    "### combo3: Amount ~ V7"
   ]
  },
  {
   "cell_type": "code",
   "execution_count": 5,
   "metadata": {},
   "outputs": [
    {
     "name": "stdout",
     "output_type": "stream",
     "text": [
      "[4, 200, 0.1]\n",
      "train after sampling: 145266\n",
      "fraud ratio: 0.0016934451282474908\n",
      "train after sampling: 145266\n",
      "fraud ratio: 0.0016934451282474908\n",
      "train after sampling: 145268\n",
      "fraud ratio: 0.001700305641985847\n",
      "train after sampling: 145266\n",
      "fraud ratio: 0.0016934451282474908\n",
      "train after sampling: 145270\n",
      "fraud ratio: 0.0017002822330832244\n",
      "[0.9204787369493254, 0.7500264410364885, 0.8265564216404091]\n",
      "grid search precision: 0.9204787369493254\n",
      "grid search recall: 0.7500264410364885\n",
      "grid search f-score: 0.8265564216404091\n",
      "grid search hyper: [4, 200, 0.1]\n"
     ]
    }
   ],
   "source": [
    "df = sqlContext.read.csv(\"base_train.csv\", header = True)\n",
    "features = ['Amount', 'V28', 'V25', 'V13', 'V3', 'V9', 'V6', 'V11', 'V15', 'V16', 'V2', 'V10', 'V19', 'V12', 'V27', 'V20', 'V24', 'V14', 'V8', 'V21', 'V5', 'V18', 'V7']\n",
    "gs_hyper, gs_precision, gs_recall, gs_fscore = tune(df, 5, True, 'None', 0, False, features, 'gbm', [4], [200], [0.1])\n",
    "print(\"grid search precision:\", gs_precision)\n",
    "print(\"grid search recall:\", gs_recall)\n",
    "print(\"grid search f-score:\", gs_fscore)\n",
    "print(\"grid search hyper:\", gs_hyper)\n",
    "\n",
    "sqlContext.clearCache()"
   ]
  },
  {
   "cell_type": "markdown",
   "metadata": {},
   "source": [
    "### combo4: Amount ~ V1"
   ]
  },
  {
   "cell_type": "code",
   "execution_count": 6,
   "metadata": {},
   "outputs": [
    {
     "name": "stdout",
     "output_type": "stream",
     "text": [
      "[4, 200, 0.1]\n",
      "train after sampling: 145266\n",
      "fraud ratio: 0.0016934451282474908\n",
      "train after sampling: 145266\n",
      "fraud ratio: 0.0016934451282474908\n",
      "train after sampling: 145268\n",
      "fraud ratio: 0.001700305641985847\n",
      "train after sampling: 145266\n",
      "fraud ratio: 0.0016934451282474908\n",
      "train after sampling: 145270\n",
      "fraud ratio: 0.0017002822330832244\n",
      "[0.9382606767230968, 0.7694870438921206, 0.8455340631598475]\n",
      "grid search precision: 0.9382606767230968\n",
      "grid search recall: 0.7694870438921206\n",
      "grid search f-score: 0.8455340631598475\n",
      "grid search hyper: [4, 200, 0.1]\n"
     ]
    }
   ],
   "source": [
    "df = sqlContext.read.csv(\"base_train.csv\", header = True)\n",
    "features = ['Amount', 'V28', 'V25', 'V13', 'V3', 'V9', 'V6', 'V11', 'V15', 'V16', 'V2', 'V10', 'V19', 'V12', 'V27', 'V20', 'V24', 'V14', 'V8', 'V21', 'V5', 'V18', 'V7','V23', 'V22', 'V17','V4', 'V1']\n",
    "gs_hyper, gs_precision, gs_recall, gs_fscore = tune(df, 5, True, 'None', 0, False, features, 'gbm', [4], [200], [0.1])\n",
    "print(\"grid search precision:\", gs_precision)\n",
    "print(\"grid search recall:\", gs_recall)\n",
    "print(\"grid search f-score:\", gs_fscore)\n",
    "print(\"grid search hyper:\", gs_hyper)\n",
    "\n",
    "sqlContext.clearCache()"
   ]
  },
  {
   "cell_type": "markdown",
   "metadata": {},
   "source": [
    "### combo5: Amount ~ V4"
   ]
  },
  {
   "cell_type": "code",
   "execution_count": 8,
   "metadata": {},
   "outputs": [
    {
     "name": "stdout",
     "output_type": "stream",
     "text": [
      "[4, 200, 0.1]\n",
      "train after sampling: 145266\n",
      "fraud ratio: 0.0016934451282474908\n",
      "train after sampling: 145268\n",
      "fraud ratio: 0.001700305641985847\n",
      "train after sampling: 145266\n",
      "fraud ratio: 0.0016934451282474908\n",
      "train after sampling: 145266\n",
      "fraud ratio: 0.0016934451282474908\n",
      "train after sampling: 145270\n",
      "fraud ratio: 0.0017002822330832244\n",
      "[0.9315523987039842, 0.7726599682707562, 0.844699006735744]\n",
      "grid search precision: 0.9315523987039842\n",
      "grid search recall: 0.7726599682707562\n",
      "grid search f-score: 0.844699006735744\n",
      "grid search hyper: [4, 200, 0.1]\n"
     ]
    }
   ],
   "source": [
    "df = sqlContext.read.csv(\"base_train.csv\", header = True)\n",
    "features = ['Amount', 'V28', 'V25', 'V13', 'V3', 'V9', 'V6', 'V11', 'V15', 'V16', 'V2', 'V10', 'V19', 'V12', 'V27', 'V20', 'V24', 'V14', 'V8', 'V21', 'V5', 'V18', 'V7','V23', 'V22', 'V17','V4']\n",
    "gs_hyper, gs_precision, gs_recall, gs_fscore = tune(df, 5, True, 'None', 0, False, features, 'gbm', [4], [200], [0.1])\n",
    "print(\"grid search precision:\", gs_precision)\n",
    "print(\"grid search recall:\", gs_recall)\n",
    "print(\"grid search f-score:\", gs_fscore)\n",
    "print(\"grid search hyper:\", gs_hyper)\n",
    "\n",
    "sqlContext.clearCache()"
   ]
  },
  {
   "cell_type": "markdown",
   "metadata": {},
   "source": [
    "### Baed on t-test statistics"
   ]
  },
  {
   "cell_type": "code",
   "execution_count": 3,
   "metadata": {},
   "outputs": [
    {
     "name": "stdout",
     "output_type": "stream",
     "text": [
      "[4, 200, 0.1]\n",
      "train after sampling: 145268\n",
      "fraud ratio: 0.001700305641985847\n",
      "train after sampling: 145266\n",
      "fraud ratio: 0.0016934451282474908\n",
      "train after sampling: 145266\n",
      "fraud ratio: 0.0016934451282474908\n",
      "train after sampling: 145266\n",
      "fraud ratio: 0.0016934451282474908\n",
      "train after sampling: 145270\n",
      "fraud ratio: 0.0017002822330832244\n",
      "[0.9208561685543784, 0.7663141195134848, 0.836507244105671]\n",
      "grid search precision: 0.9208561685543784\n",
      "grid search recall: 0.7663141195134848\n",
      "grid search f-score: 0.836507244105671\n",
      "grid search hyper: [4, 200, 0.1]\n"
     ]
    }
   ],
   "source": [
    "df = sqlContext.read.csv(\"base_train.csv\", header = True)\n",
    "features = ['V1','V2','V3','V4','V5','V6','V7','V8','V9','V10','V11','V12','V14','V15','V16','V17','V18','V19','V20','V21','V24','V27','V28','Amount']\n",
    "gs_hyper, gs_precision, gs_recall, gs_fscore = tune(df, 5, True, 'None', 0, False, features, 'gbm', [4], [200], [0.1])\n",
    "print(\"grid search precision:\", gs_precision)\n",
    "print(\"grid search recall:\", gs_recall)\n",
    "print(\"grid search f-score:\", gs_fscore)\n",
    "print(\"grid search hyper:\", gs_hyper)\n",
    "\n",
    "sqlContext.clearCache()"
   ]
  },
  {
   "cell_type": "markdown",
   "metadata": {},
   "source": [
    "### It is found that excluding any feature results in a performance drop, so all features are reserved"
   ]
  },
  {
   "cell_type": "markdown",
   "metadata": {},
   "source": [
    "## Step6: Compare stratified cv with no smapling and undersampling"
   ]
  },
  {
   "cell_type": "code",
   "execution_count": 4,
   "metadata": {},
   "outputs": [
    {
     "name": "stdout",
     "output_type": "stream",
     "text": [
      "[4, 200, 0.1]\n",
      "train after sampling: 49399\n",
      "fraud ratio: 0.0050001012166238186\n",
      "train after sampling: 49200\n",
      "fraud ratio: 0.005\n",
      "train after sampling: 49200\n",
      "fraud ratio: 0.005\n",
      "train after sampling: 49200\n",
      "fraud ratio: 0.005\n",
      "train after sampling: 49399\n",
      "fraud ratio: 0.0050001012166238186\n",
      "[0.8613651637679555, 0.7922792173453199, 0.82537905440003]\n",
      "grids search precision: 0.8613651637679555\n",
      "grids search recall: 0.7922792173453199\n",
      "grids search f-score: 0.82537905440003\n",
      "[4, 200, 0.1]\n",
      "train after sampling: 24700\n",
      "fraud ratio: 0.01\n",
      "train after sampling: 24600\n",
      "fraud ratio: 0.01\n",
      "train after sampling: 24600\n",
      "fraud ratio: 0.01\n",
      "train after sampling: 24600\n",
      "fraud ratio: 0.01\n",
      "train after sampling: 24700\n",
      "fraud ratio: 0.01\n",
      "[0.8032088353973746, 0.8019566367001586, 0.8025822476251104]\n",
      "grids search precision: 0.8032088353973746\n",
      "grids search recall: 0.8019566367001586\n",
      "grids search f-score: 0.8025822476251104\n",
      "[4, 200, 0.1]\n",
      "train after sampling: 4939\n",
      "fraud ratio: 0.05001012350678275\n",
      "train after sampling: 4919\n",
      "fraud ratio: 0.05001016466761537\n",
      "train after sampling: 4919\n",
      "fraud ratio: 0.05001016466761537\n",
      "train after sampling: 4919\n",
      "fraud ratio: 0.05001016466761537\n",
      "train after sampling: 4939\n",
      "fraud ratio: 0.05001012350678275\n",
      "[0.36416602081040894, 0.8246430460074036, 0.5052232272375725]\n",
      "grids search precision: 0.36416602081040894\n",
      "grids search recall: 0.8246430460074036\n",
      "grids search f-score: 0.5052232272375725\n"
     ]
    }
   ],
   "source": [
    "df = sqlContext.read.csv(\"base_train.csv\", header = True)\n",
    "features = ['V1','V2','V3','V4','V5','V6','V7','V8','V9','V10','V11','V12','V13','V14','V15','V16','V17','V18','V19','V20','V21','V22','V23','V24','V25','V26','V27','V28','Amount']\n",
    "\n",
    "for i in [0.005,0.01,0.05]:\n",
    "    cv_hyper, cv_precision, cv_recall, cv_fscore = tune(df, 5, True, 'under', i, False, features, 'gbm', [4],[200],[0.1])\n",
    "    print(\"grids search precision:\", cv_precision)\n",
    "    print(\"grids search recall:\", cv_recall)\n",
    "    print(\"grids search f-score:\", cv_fscore)\n",
    "\n",
    "sqlContext.clearCache()"
   ]
  },
  {
   "cell_type": "code",
   "execution_count": 3,
   "metadata": {},
   "outputs": [
    {
     "name": "stdout",
     "output_type": "stream",
     "text": [
      "train after sampling: 61599\n",
      "fraud ratio: 0.005000081170148866\n",
      "Precision is  0.8571428571428571\n",
      "Recall is  0.8571428571428571\n",
      "F1 score is  0.8571428571428571\n",
      "Test Area Under ROC: 0.9836296360080017\n"
     ]
    }
   ],
   "source": [
    "train_df= sqlContext.read.format('com.databricks.spark.csv').options(header='true', inferschema='true').load('base_train.csv')\n",
    "test_df= sqlContext.read.format('com.databricks.spark.csv').options(header='true', inferschema='true').load('base_test.csv')\n",
    "\n",
    "train_df = sample(train_df, \"under\", 0.005)\n",
    "vectorAssembler = VectorAssembler(inputCols = ['V1','V2','V3','V4','V5','V6','V7','V8','V9','V10','V11','V12','V13','V14','V15','V16','V17','V18','V19','V20','V21','V22','V23','V24','V25','V26','V27','V28','Amount'], outputCol = 'features')\n",
    "train_df_v = vectorAssembler.transform(train_df)\n",
    "test_df_v = vectorAssembler.transform(test_df)\n",
    "gbt = GBTClassifier(featuresCol = 'features',labelCol = 'Class', maxDepth = 4, maxIter = 200, stepSize = 0.1)\n",
    "\n",
    "gbt_model = gbt.fit(train_df_v)\n",
    "gbt_prediction = gbt_model.transform(test_df_v)\n",
    "#bt_prediction.select('features','Class','prediction').show()\n",
    "\n",
    "evaluator = BinaryClassificationEvaluator(labelCol=\"Class\", metricName=\"areaUnderROC\")\n",
    "area = evaluator.evaluate(gbt_prediction)\n",
    "pred = gbt_prediction\n",
    "precision = pred.filter(pred.Class == pred.prediction).filter(pred.Class == 1.0).count() / pred.filter(pred.prediction == 1.0).count()\n",
    "recall = pred.filter(pred.Class == pred.prediction).filter(pred.Class == 1.0).count() / pred.filter(pred.Class == 1.0).count()\n",
    "f1 = 2 * precision * recall /(precision + recall)\n",
    "print(\"Precision is \", precision)\n",
    "print(\"Recall is \", recall)\n",
    "print(\"F1 score is \", f1)\n",
    "print(\"Test Area Under ROC: \" + str(area))"
   ]
  },
  {
   "cell_type": "markdown",
   "metadata": {},
   "source": [
    "### No performance improvement by undersamping, so just keep using entire dataset"
   ]
  },
  {
   "cell_type": "markdown",
   "metadata": {},
   "source": [
    "## Step7: hold-out test"
   ]
  },
  {
   "cell_type": "code",
   "execution_count": 6,
   "metadata": {},
   "outputs": [
    {
     "name": "stdout",
     "output_type": "stream",
     "text": [
      "Precision is  0.9272727272727272\n",
      "Recall is  0.6891891891891891\n",
      "F1 score is  0.7906976744186047\n",
      "Test Area Under ROC: 0.9881642300120628\n"
     ]
    }
   ],
   "source": [
    "train_df= sqlContext.read.format('com.databricks.spark.csv').options(header='true', inferschema='true').load('base_train.csv')\n",
    "oot_df= sqlContext.read.format('com.databricks.spark.csv').options(header='true', inferschema='true').load('oot.csv')\n",
    "vectorAssembler = VectorAssembler(inputCols = ['V1','V2','V3','V4','V5','V6','V7','V8','V9','V10','V11','V12','V13','V14','V15','V16','V17','V18','V19','V20','V21','V22','V23','V24','V25','V26','V27','V28','Amount'], outputCol = 'features')\n",
    "train_df_v = vectorAssembler.transform(train_df)\n",
    "oot_df_v = vectorAssembler.transform(oot_df)\n",
    "gbt = GBTClassifier(featuresCol = 'features',labelCol = 'Class', maxDepth = 4, maxIter = 200, stepSize = 0.1)\n",
    "\n",
    "gbt_model = gbt.fit(train_df_v)\n",
    "gbt_prediction = gbt_model.transform(oot_df_v)\n",
    "\n",
    "evaluator = BinaryClassificationEvaluator(labelCol=\"Class\", metricName=\"areaUnderROC\")\n",
    "area = evaluator.evaluate(gbt_prediction)\n",
    "pred = gbt_prediction\n",
    "precision = pred.filter(pred.Class == pred.prediction).filter(pred.Class == 1.0).count() / pred.filter(pred.prediction == 1.0).count()\n",
    "recall = pred.filter(pred.Class == pred.prediction).filter(pred.Class == 1.0).count() / pred.filter(pred.Class == 1.0).count()\n",
    "f1 = 2 * precision * recall /(precision + recall)\n",
    "print(\"Precision is \", precision)\n",
    "print(\"Recall is \", recall)\n",
    "print(\"F1 score is \", f1)\n",
    "print(\"Test Area Under ROC: \" + str(area))"
   ]
  }
 ],
 "metadata": {
  "kernelspec": {
   "display_name": "Python 3",
   "language": "python",
   "name": "python3"
  },
  "language_info": {
   "codemirror_mode": {
    "name": "ipython",
    "version": 3
   },
   "file_extension": ".py",
   "mimetype": "text/x-python",
   "name": "python",
   "nbconvert_exporter": "python",
   "pygments_lexer": "ipython3",
   "version": "3.7.3"
  }
 },
 "nbformat": 4,
 "nbformat_minor": 2
}
